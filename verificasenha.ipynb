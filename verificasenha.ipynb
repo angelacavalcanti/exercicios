{
  "nbformat": 4,
  "nbformat_minor": 0,
  "metadata": {
    "colab": {
      "provenance": [],
      "authorship_tag": "ABX9TyOtMDFru3Gcs0lrvFzmdv6X"
    },
    "kernelspec": {
      "name": "python3",
      "display_name": "Python 3"
    },
    "language_info": {
      "name": "python"
    }
  },
  "cells": [
    {
      "cell_type": "code",
      "execution_count": null,
      "metadata": {
        "id": "7wAO61gmOo53"
      },
      "outputs": [],
      "source": [
        "senha = input(\"Digite a senha: \")\n",
        "contem_num = any(char.isdigit() for char in senha)\n",
        "contem_maiscula = any(char.isupper() for char in senha)\n",
        "\n",
        "if len(senha) < 10:\n",
        "  print(\"Sua senha é fraca. Tente escolher uma senha maior.\")\n",
        "elif contem_num == False:\n",
        "  print(\"Sua senha é franca. Escolha uma senha que tenha números.\")\n",
        "elif contem_maiscula == False:\n",
        "  print(\"Sua senha é franca. Escolha uma senha que tenha pelo menos uma letra maiúscula.\")\n",
        "else:\n",
        "  print(\"Sua senha é forte. Parabéns!\")"
      ]
    }
  ]
}